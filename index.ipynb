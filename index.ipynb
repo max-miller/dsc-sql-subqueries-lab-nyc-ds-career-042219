{
 "cells": [
  {
   "cell_type": "markdown",
   "metadata": {},
   "source": [
    "# SQL Subqueries - Lab\n",
    "\n",
    "## Introduction\n",
    "\n",
    "Now that you've seen how subqueries work, it's time to get some practice writing them! Not all of the queries will require subqueries, but all will be a bit more complex and require some thought and review about aggregates, grouping, ordering, filtering, joins and subqueries. Good luck!  \n",
    "\n",
    "## Objectives\n",
    "\n",
    "You will be able to:\n",
    "\n",
    "* Write subqueries to decompose complex queries\n",
    "\n",
    "## CRM Database Schema\n",
    "\n",
    "Once again, here's the schema for the CRM database you'll continue to practice with.\n",
    "\n",
    "<img src=\"images/Database-Schema.png\" width=\"600\">\n",
    "\n",
    "## Connect to the Database\n",
    "\n",
    "As usual, start by importing the necessary packages and connecting to the database **data.sqlite**."
   ]
  },
  {
   "cell_type": "code",
   "execution_count": 2,
   "metadata": {},
   "outputs": [],
   "source": [
    "import sqlite3\n",
    "import pandas as pd\n",
    "conn = sqlite3.connect('data.sqlite', detect_types=sqlite3.PARSE_COLNAMES)\n",
    "c = conn.cursor()"
   ]
  },
  {
   "cell_type": "code",
   "execution_count": null,
   "metadata": {},
   "outputs": [],
   "source": [
    "#Your code here; create the connection and cursor"
   ]
  },
  {
   "cell_type": "markdown",
   "metadata": {},
   "source": [
    "## Select the Average Number of Orders on a Product by Product Basis"
   ]
  },
  {
   "cell_type": "code",
   "execution_count": null,
   "metadata": {},
   "outputs": [],
   "source": [
    "#Your code here; use a subquery. No join will be necessary."
   ]
  },
  {
   "cell_type": "markdown",
   "metadata": {},
   "source": [
    "## Write an Equivalent Query using a Subquery\n",
    "\n",
    "```SQL\n",
    "select customerNumber,\n",
    "       contactLastName,\n",
    "       contactFirstName\n",
    "       from customers\n",
    "       join orders \n",
    "       using(customerNumber)\n",
    "       where orderDate = '2003-01-31';\n",
    "```"
   ]
  },
  {
   "cell_type": "code",
   "execution_count": 2,
   "metadata": {},
   "outputs": [
    {
     "data": {
      "text/html": [
       "<div>\n",
       "<style scoped>\n",
       "    .dataframe tbody tr th:only-of-type {\n",
       "        vertical-align: middle;\n",
       "    }\n",
       "\n",
       "    .dataframe tbody tr th {\n",
       "        vertical-align: top;\n",
       "    }\n",
       "\n",
       "    .dataframe thead th {\n",
       "        text-align: right;\n",
       "    }\n",
       "</style>\n",
       "<table border=\"1\" class=\"dataframe\">\n",
       "  <thead>\n",
       "    <tr style=\"text-align: right;\">\n",
       "      <th></th>\n",
       "      <th>customerNumber</th>\n",
       "      <th>contactLastName</th>\n",
       "      <th>contactFirstName</th>\n",
       "    </tr>\n",
       "  </thead>\n",
       "  <tbody>\n",
       "    <tr>\n",
       "      <th>0</th>\n",
       "      <td>141</td>\n",
       "      <td>Freyre</td>\n",
       "      <td>Diego</td>\n",
       "    </tr>\n",
       "  </tbody>\n",
       "</table>\n",
       "</div>"
      ],
      "text/plain": [
       "  customerNumber contactLastName contactFirstName\n",
       "0            141          Freyre           Diego "
      ]
     },
     "execution_count": 2,
     "metadata": {},
     "output_type": "execute_result"
    }
   ],
   "source": [
    "df = pd.DataFrame(c.execute('''select customerNumber, contactLastName, contactFirstName from customers\n",
    "where customerNumber in (select customerNumber from orders where orderDate= '2003-01-31')\n",
    "''').fetchall())\n",
    "df.columns = [i[0] for i in c.description]\n",
    "df"
   ]
  },
  {
   "cell_type": "markdown",
   "metadata": {},
   "source": [
    "## Select the Total Number of Orders for Each Product Name\n",
    "\n",
    "Sort the results by the total number of items sold for that product."
   ]
  },
  {
   "cell_type": "code",
   "execution_count": 6,
   "metadata": {},
   "outputs": [
    {
     "data": {
      "text/html": [
       "<div>\n",
       "<style scoped>\n",
       "    .dataframe tbody tr th:only-of-type {\n",
       "        vertical-align: middle;\n",
       "    }\n",
       "\n",
       "    .dataframe tbody tr th {\n",
       "        vertical-align: top;\n",
       "    }\n",
       "\n",
       "    .dataframe thead th {\n",
       "        text-align: right;\n",
       "    }\n",
       "</style>\n",
       "<table border=\"1\" class=\"dataframe\">\n",
       "  <thead>\n",
       "    <tr style=\"text-align: right;\">\n",
       "      <th></th>\n",
       "      <th>productName</th>\n",
       "      <th>number</th>\n",
       "    </tr>\n",
       "  </thead>\n",
       "  <tbody>\n",
       "    <tr>\n",
       "      <th>0</th>\n",
       "      <td>1957 Ford Thunderbird</td>\n",
       "      <td>767</td>\n",
       "    </tr>\n",
       "    <tr>\n",
       "      <th>1</th>\n",
       "      <td>1970 Chevy Chevelle SS 454</td>\n",
       "      <td>803</td>\n",
       "    </tr>\n",
       "    <tr>\n",
       "      <th>2</th>\n",
       "      <td>1936 Mercedes Benz 500k Roadster</td>\n",
       "      <td>824</td>\n",
       "    </tr>\n",
       "    <tr>\n",
       "      <th>3</th>\n",
       "      <td>1911 Ford Town Car</td>\n",
       "      <td>832</td>\n",
       "    </tr>\n",
       "    <tr>\n",
       "      <th>4</th>\n",
       "      <td>1999 Indy 500 Monte Carlo SS</td>\n",
       "      <td>855</td>\n",
       "    </tr>\n",
       "  </tbody>\n",
       "</table>\n",
       "</div>"
      ],
      "text/plain": [
       "                        productName  number\n",
       "0             1957 Ford Thunderbird     767\n",
       "1        1970 Chevy Chevelle SS 454     803\n",
       "2  1936 Mercedes Benz 500k Roadster     824\n",
       "3                1911 Ford Town Car     832\n",
       "4      1999 Indy 500 Monte Carlo SS     855"
      ]
     },
     "execution_count": 6,
     "metadata": {},
     "output_type": "execute_result"
    }
   ],
   "source": [
    "df = pd.DataFrame(c.execute('''select productName, sum(orderdetails.quantityOrdered) as number from products\n",
    "join orderdetails on products.productCode = orderdetails.productCode\n",
    "group by productName\n",
    "order by number\n",
    "''').fetchall())\n",
    "df.columns = [i[0] for i in c.description]\n",
    "df.head()"
   ]
  },
  {
   "cell_type": "markdown",
   "metadata": {},
   "source": [
    "## Select the Product Name and the  Total Number of People Who Have Ordered Each Product\n",
    "\n",
    "Sort the results in descending order."
   ]
  },
  {
   "cell_type": "code",
   "execution_count": 10,
   "metadata": {},
   "outputs": [
    {
     "data": {
      "text/html": [
       "<div>\n",
       "<style scoped>\n",
       "    .dataframe tbody tr th:only-of-type {\n",
       "        vertical-align: middle;\n",
       "    }\n",
       "\n",
       "    .dataframe tbody tr th {\n",
       "        vertical-align: top;\n",
       "    }\n",
       "\n",
       "    .dataframe thead th {\n",
       "        text-align: right;\n",
       "    }\n",
       "</style>\n",
       "<table border=\"1\" class=\"dataframe\">\n",
       "  <thead>\n",
       "    <tr style=\"text-align: right;\">\n",
       "      <th></th>\n",
       "      <th>productName</th>\n",
       "      <th>number</th>\n",
       "    </tr>\n",
       "  </thead>\n",
       "  <tbody>\n",
       "    <tr>\n",
       "      <th>0</th>\n",
       "      <td>1952 Citroen-15CV</td>\n",
       "      <td>24</td>\n",
       "    </tr>\n",
       "    <tr>\n",
       "      <th>1</th>\n",
       "      <td>1957 Ford Thunderbird</td>\n",
       "      <td>24</td>\n",
       "    </tr>\n",
       "    <tr>\n",
       "      <th>2</th>\n",
       "      <td>1911 Ford Town Car</td>\n",
       "      <td>25</td>\n",
       "    </tr>\n",
       "    <tr>\n",
       "      <th>3</th>\n",
       "      <td>1917 Grand Touring Sedan</td>\n",
       "      <td>25</td>\n",
       "    </tr>\n",
       "    <tr>\n",
       "      <th>4</th>\n",
       "      <td>1932 Alfa Romeo 8C2300 Spider Sport</td>\n",
       "      <td>25</td>\n",
       "    </tr>\n",
       "  </tbody>\n",
       "</table>\n",
       "</div>"
      ],
      "text/plain": [
       "                           productName  number\n",
       "0                    1952 Citroen-15CV      24\n",
       "1                1957 Ford Thunderbird      24\n",
       "2                   1911 Ford Town Car      25\n",
       "3             1917 Grand Touring Sedan      25\n",
       "4  1932 Alfa Romeo 8C2300 Spider Sport      25"
      ]
     },
     "execution_count": 10,
     "metadata": {},
     "output_type": "execute_result"
    }
   ],
   "source": [
    "df = pd.DataFrame(c.execute('''select productName, count(orders.customerNumber) as number from products\n",
    "join orderdetails on products.productCode = orderdetails.productCode\n",
    "join orders on orderdetails.orderNumber = orders.orderNumber\n",
    "group by productName\n",
    "order by number\n",
    "''').fetchall())\n",
    "df.columns = [i[0] for i in c.description]\n",
    "df.head()"
   ]
  },
  {
   "cell_type": "markdown",
   "metadata": {},
   "source": [
    "## Select the Employee Number, Office Code, City (of the office), and Name (First and Last) of those Employees who Sold Products that Have Been Ordered by Less Then 20 people.\n",
    "\n",
    "This problem is a bit tougher. To start, think about how you might break the problem up. Be sure that your results only list each employee once."
   ]
  },
  {
   "cell_type": "code",
   "execution_count": 3,
   "metadata": {},
   "outputs": [
    {
     "ename": "OperationalError",
     "evalue": "near \"where\": syntax error",
     "output_type": "error",
     "traceback": [
      "\u001b[0;31m\u001b[0m",
      "\u001b[0;31mOperationalError\u001b[0mTraceback (most recent call last)",
      "\u001b[0;32m<ipython-input-3-d43062d16cc1>\u001b[0m in \u001b[0;36m<module>\u001b[0;34m()\u001b[0m\n\u001b[1;32m      9\u001b[0m group by 1 having count(distinct customerNumber) <= 20 )\n\u001b[1;32m     10\u001b[0m \u001b[0;34m\u001b[0m\u001b[0m\n\u001b[0;32m---> 11\u001b[0;31m ''').fetchall())\n\u001b[0m\u001b[1;32m     12\u001b[0m \u001b[0mdf\u001b[0m\u001b[0;34m.\u001b[0m\u001b[0mcolumns\u001b[0m \u001b[0;34m=\u001b[0m \u001b[0;34m[\u001b[0m\u001b[0mi\u001b[0m\u001b[0;34m[\u001b[0m\u001b[0;36m0\u001b[0m\u001b[0;34m]\u001b[0m \u001b[0;32mfor\u001b[0m \u001b[0mi\u001b[0m \u001b[0;32min\u001b[0m \u001b[0mc\u001b[0m\u001b[0;34m.\u001b[0m\u001b[0mdescription\u001b[0m\u001b[0;34m]\u001b[0m\u001b[0;34m\u001b[0m\u001b[0m\n\u001b[1;32m     13\u001b[0m \u001b[0mdf\u001b[0m\u001b[0;34m.\u001b[0m\u001b[0mhead\u001b[0m\u001b[0;34m(\u001b[0m\u001b[0;34m)\u001b[0m\u001b[0;34m\u001b[0m\u001b[0m\n",
      "\u001b[0;31mOperationalError\u001b[0m: near \"where\": syntax error"
     ]
    }
   ],
   "source": [
    "df = pd.DataFrame(c.execute('''\n",
    "\n",
    "''').fetchall())\n",
    "df.columns = [i[0] for i in c.description]\n",
    "df.head()"
   ]
  },
  {
   "cell_type": "code",
   "execution_count": 5,
   "metadata": {},
   "outputs": [
    {
     "data": {
      "text/html": [
       "<div>\n",
       "<style scoped>\n",
       "    .dataframe tbody tr th:only-of-type {\n",
       "        vertical-align: middle;\n",
       "    }\n",
       "\n",
       "    .dataframe tbody tr th {\n",
       "        vertical-align: top;\n",
       "    }\n",
       "\n",
       "    .dataframe thead th {\n",
       "        text-align: right;\n",
       "    }\n",
       "</style>\n",
       "<table border=\"1\" class=\"dataframe\">\n",
       "  <thead>\n",
       "    <tr style=\"text-align: right;\">\n",
       "      <th></th>\n",
       "      <th>employeeNumber</th>\n",
       "      <th>officeCode</th>\n",
       "      <th>city</th>\n",
       "      <th>firstName</th>\n",
       "      <th>lastName</th>\n",
       "    </tr>\n",
       "  </thead>\n",
       "  <tbody>\n",
       "    <tr>\n",
       "      <th>0</th>\n",
       "      <td>1370</td>\n",
       "      <td>4</td>\n",
       "      <td>Paris</td>\n",
       "      <td>Gerard</td>\n",
       "      <td>Hernandez</td>\n",
       "    </tr>\n",
       "    <tr>\n",
       "      <th>1</th>\n",
       "      <td>1401</td>\n",
       "      <td>4</td>\n",
       "      <td>Paris</td>\n",
       "      <td>Pamela</td>\n",
       "      <td>Castillo</td>\n",
       "    </tr>\n",
       "    <tr>\n",
       "      <th>2</th>\n",
       "      <td>1621</td>\n",
       "      <td>5</td>\n",
       "      <td>Tokyo</td>\n",
       "      <td>Mami</td>\n",
       "      <td>Nishi</td>\n",
       "    </tr>\n",
       "    <tr>\n",
       "      <th>3</th>\n",
       "      <td>1501</td>\n",
       "      <td>7</td>\n",
       "      <td>London</td>\n",
       "      <td>Larry</td>\n",
       "      <td>Bott</td>\n",
       "    </tr>\n",
       "    <tr>\n",
       "      <th>4</th>\n",
       "      <td>1337</td>\n",
       "      <td>4</td>\n",
       "      <td>Paris</td>\n",
       "      <td>Loui</td>\n",
       "      <td>Bondur</td>\n",
       "    </tr>\n",
       "    <tr>\n",
       "      <th>5</th>\n",
       "      <td>1286</td>\n",
       "      <td>3</td>\n",
       "      <td>NYC</td>\n",
       "      <td>Foon Yue</td>\n",
       "      <td>Tseng</td>\n",
       "    </tr>\n",
       "    <tr>\n",
       "      <th>6</th>\n",
       "      <td>1166</td>\n",
       "      <td>1</td>\n",
       "      <td>San Francisco</td>\n",
       "      <td>Leslie</td>\n",
       "      <td>Thompson</td>\n",
       "    </tr>\n",
       "    <tr>\n",
       "      <th>7</th>\n",
       "      <td>1165</td>\n",
       "      <td>1</td>\n",
       "      <td>San Francisco</td>\n",
       "      <td>Leslie</td>\n",
       "      <td>Jennings</td>\n",
       "    </tr>\n",
       "    <tr>\n",
       "      <th>8</th>\n",
       "      <td>1612</td>\n",
       "      <td>6</td>\n",
       "      <td>Sydney</td>\n",
       "      <td>Peter</td>\n",
       "      <td>Marsh</td>\n",
       "    </tr>\n",
       "    <tr>\n",
       "      <th>9</th>\n",
       "      <td>1188</td>\n",
       "      <td>2</td>\n",
       "      <td>Boston</td>\n",
       "      <td>Julie</td>\n",
       "      <td>Firrelli</td>\n",
       "    </tr>\n",
       "    <tr>\n",
       "      <th>10</th>\n",
       "      <td>1611</td>\n",
       "      <td>6</td>\n",
       "      <td>Sydney</td>\n",
       "      <td>Andy</td>\n",
       "      <td>Fixter</td>\n",
       "    </tr>\n",
       "    <tr>\n",
       "      <th>11</th>\n",
       "      <td>1323</td>\n",
       "      <td>3</td>\n",
       "      <td>NYC</td>\n",
       "      <td>George</td>\n",
       "      <td>Vanauf</td>\n",
       "    </tr>\n",
       "    <tr>\n",
       "      <th>12</th>\n",
       "      <td>1702</td>\n",
       "      <td>4</td>\n",
       "      <td>Paris</td>\n",
       "      <td>Martin</td>\n",
       "      <td>Gerard</td>\n",
       "    </tr>\n",
       "    <tr>\n",
       "      <th>13</th>\n",
       "      <td>1504</td>\n",
       "      <td>7</td>\n",
       "      <td>London</td>\n",
       "      <td>Barry</td>\n",
       "      <td>Jones</td>\n",
       "    </tr>\n",
       "    <tr>\n",
       "      <th>14</th>\n",
       "      <td>1216</td>\n",
       "      <td>2</td>\n",
       "      <td>Boston</td>\n",
       "      <td>Steve</td>\n",
       "      <td>Patterson</td>\n",
       "    </tr>\n",
       "  </tbody>\n",
       "</table>\n",
       "</div>"
      ],
      "text/plain": [
       "   employeeNumber officeCode           city firstName   lastName\n",
       "0            1370          4          Paris    Gerard  Hernandez\n",
       "1            1401          4          Paris    Pamela   Castillo\n",
       "2            1621          5          Tokyo      Mami      Nishi\n",
       "3            1501          7         London     Larry       Bott\n",
       "4            1337          4          Paris      Loui     Bondur\n",
       "5            1286          3            NYC  Foon Yue      Tseng\n",
       "6            1166          1  San Francisco    Leslie   Thompson\n",
       "7            1165          1  San Francisco    Leslie   Jennings\n",
       "8            1612          6         Sydney     Peter      Marsh\n",
       "9            1188          2         Boston     Julie   Firrelli\n",
       "10           1611          6         Sydney      Andy     Fixter\n",
       "11           1323          3            NYC    George     Vanauf\n",
       "12           1702          4          Paris    Martin     Gerard\n",
       "13           1504          7         London     Barry      Jones\n",
       "14           1216          2         Boston     Steve  Patterson"
      ]
     },
     "execution_count": 5,
     "metadata": {},
     "output_type": "execute_result"
    }
   ],
   "source": [
    "c.execute(\"\"\"select distinct employeeNumber,\n",
    "                    officeCode,\n",
    "                    o.city,\n",
    "                    firstName,\n",
    "                    lastName\n",
    "                    from employees e\n",
    "                    join offices o\n",
    "                    using(officeCode)\n",
    "                    join customers c\n",
    "                    on e.employeeNumber = c.salesRepEmployeeNumber\n",
    "                    join orders\n",
    "                    using (customerNumber)\n",
    "                    join orderdetails\n",
    "                    using (orderNumber)\n",
    "                    where productCode in (select productCode\n",
    "                                                 from products\n",
    "                                                 join orderdetails\n",
    "                                                 using (productCode)\n",
    "                                                 join orders\n",
    "                                                 using (orderNumber)\n",
    "                                                 group by 1\n",
    "                                                 having count(distinct customerNumber) <= 20\n",
    "                                         );\n",
    "           \"\"\"\n",
    "         )\n",
    "df = pd.DataFrame(c.fetchall())\n",
    "df.columns = [x[0] for x in c.description]\n",
    "df"
   ]
  },
  {
   "cell_type": "markdown",
   "metadata": {},
   "source": [
    "## Select the Employee Number, Name (First and Last) and Number of Customers of Employees Who's Customers Have an Average Credit Limit of Over 15K"
   ]
  },
  {
   "cell_type": "code",
   "execution_count": null,
   "metadata": {},
   "outputs": [],
   "source": [
    "#Your code here"
   ]
  },
  {
   "cell_type": "markdown",
   "metadata": {},
   "source": [
    "## Summary\n",
    "\n",
    "In this lesson, you got to practice some more complex SQL queries, some of which required subqueries. There's still plenty more SQL to be had though; hope you've been enjoying some of these puzzles!"
   ]
  }
 ],
 "metadata": {
  "kernelspec": {
   "display_name": "Python 3",
   "language": "python",
   "name": "python3"
  },
  "language_info": {
   "codemirror_mode": {
    "name": "ipython",
    "version": 3
   },
   "file_extension": ".py",
   "mimetype": "text/x-python",
   "name": "python",
   "nbconvert_exporter": "python",
   "pygments_lexer": "ipython3",
   "version": "3.6.6"
  }
 },
 "nbformat": 4,
 "nbformat_minor": 2
}
